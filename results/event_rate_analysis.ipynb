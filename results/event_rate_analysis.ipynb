{
 "cells": [
  {
   "cell_type": "markdown",
   "id": "accessory-concept",
   "metadata": {},
   "source": [
    "# Calculate number of predicted events"
   ]
  },
  {
   "cell_type": "code",
   "execution_count": 1,
   "id": "severe-times",
   "metadata": {},
   "outputs": [],
   "source": [
    "%load_ext autoreload\n",
    "%autoreload 2\n",
    "\n",
    "import os\n",
    "os.chdir(\"../\")\n",
    "\n",
    "import sys\n",
    "sys.path.insert(1, 'src/')"
   ]
  },
  {
   "cell_type": "code",
   "execution_count": 2,
   "id": "confused-dylan",
   "metadata": {},
   "outputs": [],
   "source": [
    "import abel_heap\n",
    "import numpy as np\n",
    "\n",
    "import matplotlib.pyplot as plt\n",
    "import seaborn as sns\n",
    "import numpy as np\n",
    "import pandas as pd\n",
    "\n",
    "plt.rcParams[\"figure.figsize\"] = (10,10)\n",
    "plt.rcParams['font.size'] = 22\n",
    "plt.rcParams['axes.labelpad'] = 20"
   ]
  },
  {
   "cell_type": "markdown",
   "id": "trying-denial",
   "metadata": {},
   "source": [
    "# BTW model"
   ]
  },
  {
   "cell_type": "markdown",
   "id": "nasty-number",
   "metadata": {},
   "source": [
    "## Number of events by a given $p$ and $\\gamma=2.93$ in BTW model"
   ]
  },
  {
   "cell_type": "code",
   "execution_count": 22,
   "id": "elder-dover",
   "metadata": {},
   "outputs": [],
   "source": [
    "def calculate_number_of_events(LS, TS, PERCENTS_ETA, gamma, model):\n",
    "    number_of_events = {}\n",
    "    \n",
    "    for L in LS:\n",
    "        ETAs = []\n",
    "        for percent in PERCENTS_ETA:\n",
    "            ETAs.append(int(L**gamma * percent))\n",
    "        number_of_events[L] = abel_heap.calculate_events(L, ETAs, model)\n",
    "        \n",
    "    number_of_events = pd.DataFrame({gamma: events[:-1] for gamma, events in number_of_events.items()}, index=PERCENTS_ETA)\n",
    "    number_of_events.index.name = \"p\"\n",
    "    return number_of_events"
   ]
  },
  {
   "cell_type": "code",
   "execution_count": 23,
   "id": "turned-delhi",
   "metadata": {},
   "outputs": [],
   "source": [
    "t_scaling = 2.75\n",
    "best_t = 500\n",
    "\n",
    "LS = [64, 128, 256, 512]\n",
    "TS = [best_t, int(best_t * t_scaling), int(best_t * t_scaling**2), int(best_t*t_scaling**3)]\n",
    "\n",
    "#PERCENTS_ETA = [0.15 / 6 , 0.2 / 6, 0.25 / 6, 0.30 / 6]\n",
    "PERCENTS_ETA = [0.025, 0.033, 0.042, 0.05] # approx of above line\n",
    "\n",
    "gamma = 2.93\n",
    "number_of_events_btw = calculate_number_of_events(LS, TS, PERCENTS_ETA, gamma, \"determ\")"
   ]
  },
  {
   "cell_type": "code",
   "execution_count": 24,
   "id": "lined-single",
   "metadata": {},
   "outputs": [
    {
     "data": {
      "text/html": [
       "<div>\n",
       "<style scoped>\n",
       "    .dataframe tbody tr th:only-of-type {\n",
       "        vertical-align: middle;\n",
       "    }\n",
       "\n",
       "    .dataframe tbody tr th {\n",
       "        vertical-align: top;\n",
       "    }\n",
       "\n",
       "    .dataframe thead th {\n",
       "        text-align: right;\n",
       "    }\n",
       "</style>\n",
       "<table border=\"1\" class=\"dataframe\">\n",
       "  <thead>\n",
       "    <tr style=\"text-align: right;\">\n",
       "      <th></th>\n",
       "      <th>64</th>\n",
       "      <th>128</th>\n",
       "      <th>256</th>\n",
       "      <th>512</th>\n",
       "    </tr>\n",
       "    <tr>\n",
       "      <th>p</th>\n",
       "      <th></th>\n",
       "      <th></th>\n",
       "      <th></th>\n",
       "      <th></th>\n",
       "    </tr>\n",
       "  </thead>\n",
       "  <tbody>\n",
       "    <tr>\n",
       "      <th>0.025</th>\n",
       "      <td>173167</td>\n",
       "      <td>61170</td>\n",
       "      <td>23634</td>\n",
       "      <td>9544</td>\n",
       "    </tr>\n",
       "    <tr>\n",
       "      <th>0.033</th>\n",
       "      <td>75863</td>\n",
       "      <td>24653</td>\n",
       "      <td>9117</td>\n",
       "      <td>3684</td>\n",
       "    </tr>\n",
       "    <tr>\n",
       "      <th>0.042</th>\n",
       "      <td>30507</td>\n",
       "      <td>9244</td>\n",
       "      <td>3201</td>\n",
       "      <td>1265</td>\n",
       "    </tr>\n",
       "    <tr>\n",
       "      <th>0.050</th>\n",
       "      <td>13563</td>\n",
       "      <td>3779</td>\n",
       "      <td>1300</td>\n",
       "      <td>528</td>\n",
       "    </tr>\n",
       "  </tbody>\n",
       "</table>\n",
       "</div>"
      ],
      "text/plain": [
       "          64     128    256   512\n",
       "p                                \n",
       "0.025  173167  61170  23634  9544\n",
       "0.033   75863  24653   9117  3684\n",
       "0.042   30507   9244   3201  1265\n",
       "0.050   13563   3779   1300   528"
      ]
     },
     "execution_count": 24,
     "metadata": {},
     "output_type": "execute_result"
    }
   ],
   "source": [
    "number_of_events_btw"
   ]
  },
  {
   "cell_type": "code",
   "execution_count": 25,
   "id": "environmental-mason",
   "metadata": {},
   "outputs": [
    {
     "name": "stdout",
     "output_type": "stream",
     "text": [
      "\\begin{tabular}{lrrrr}\n",
      "\\toprule\n",
      "{} &     64  &    128 &    256 &   512 \\\\\n",
      "p     &         &        &        &       \\\\\n",
      "\\midrule\n",
      "0.025 &  173167 &  61170 &  23634 &  9544 \\\\\n",
      "0.033 &   75863 &  24653 &   9117 &  3684 \\\\\n",
      "0.042 &   30507 &   9244 &   3201 &  1265 \\\\\n",
      "0.050 &   13563 &   3779 &   1300 &   528 \\\\\n",
      "\\bottomrule\n",
      "\\end{tabular}\n",
      "\n"
     ]
    }
   ],
   "source": [
    "print(number_of_events_btw.to_latex())"
   ]
  },
  {
   "cell_type": "code",
   "execution_count": 26,
   "id": "oriented-charger",
   "metadata": {},
   "outputs": [],
   "source": [
    "gamma = 3.\n",
    "number_of_events_btw = calculate_number_of_events(LS, TS, PERCENTS_ETA, gamma, \"determ\")"
   ]
  },
  {
   "cell_type": "code",
   "execution_count": 27,
   "id": "emerging-duration",
   "metadata": {},
   "outputs": [
    {
     "data": {
      "text/html": [
       "<div>\n",
       "<style scoped>\n",
       "    .dataframe tbody tr th:only-of-type {\n",
       "        vertical-align: middle;\n",
       "    }\n",
       "\n",
       "    .dataframe tbody tr th {\n",
       "        vertical-align: top;\n",
       "    }\n",
       "\n",
       "    .dataframe thead th {\n",
       "        text-align: right;\n",
       "    }\n",
       "</style>\n",
       "<table border=\"1\" class=\"dataframe\">\n",
       "  <thead>\n",
       "    <tr style=\"text-align: right;\">\n",
       "      <th></th>\n",
       "      <th>64</th>\n",
       "      <th>128</th>\n",
       "      <th>256</th>\n",
       "      <th>512</th>\n",
       "    </tr>\n",
       "    <tr>\n",
       "      <th>p</th>\n",
       "      <th></th>\n",
       "      <th></th>\n",
       "      <th></th>\n",
       "      <th></th>\n",
       "    </tr>\n",
       "  </thead>\n",
       "  <tbody>\n",
       "    <tr>\n",
       "      <th>0.025</th>\n",
       "      <td>72492</td>\n",
       "      <td>19542</td>\n",
       "      <td>5910</td>\n",
       "      <td>1841</td>\n",
       "    </tr>\n",
       "    <tr>\n",
       "      <th>0.033</th>\n",
       "      <td>24616</td>\n",
       "      <td>5706</td>\n",
       "      <td>1531</td>\n",
       "      <td>458</td>\n",
       "    </tr>\n",
       "    <tr>\n",
       "      <th>0.042</th>\n",
       "      <td>7155</td>\n",
       "      <td>1403</td>\n",
       "      <td>347</td>\n",
       "      <td>75</td>\n",
       "    </tr>\n",
       "    <tr>\n",
       "      <th>0.050</th>\n",
       "      <td>2346</td>\n",
       "      <td>366</td>\n",
       "      <td>82</td>\n",
       "      <td>10</td>\n",
       "    </tr>\n",
       "  </tbody>\n",
       "</table>\n",
       "</div>"
      ],
      "text/plain": [
       "         64     128   256   512\n",
       "p                              \n",
       "0.025  72492  19542  5910  1841\n",
       "0.033  24616   5706  1531   458\n",
       "0.042   7155   1403   347    75\n",
       "0.050   2346    366    82    10"
      ]
     },
     "execution_count": 27,
     "metadata": {},
     "output_type": "execute_result"
    }
   ],
   "source": [
    "number_of_events_btw"
   ]
  },
  {
   "cell_type": "code",
   "execution_count": 28,
   "id": "agricultural-motivation",
   "metadata": {},
   "outputs": [
    {
     "name": "stdout",
     "output_type": "stream",
     "text": [
      "\\begin{tabular}{lrrrr}\n",
      "\\toprule\n",
      "{} &    64  &    128 &   256 &   512 \\\\\n",
      "p     &        &        &       &       \\\\\n",
      "\\midrule\n",
      "0.025 &  72492 &  19542 &  5910 &  1841 \\\\\n",
      "0.033 &  24616 &   5706 &  1531 &   458 \\\\\n",
      "0.042 &   7155 &   1403 &   347 &    75 \\\\\n",
      "0.050 &   2346 &    366 &    82 &    10 \\\\\n",
      "\\bottomrule\n",
      "\\end{tabular}\n",
      "\n"
     ]
    }
   ],
   "source": [
    "print(number_of_events_btw.to_latex())"
   ]
  },
  {
   "cell_type": "markdown",
   "id": "municipal-bermuda",
   "metadata": {},
   "source": [
    "# Number of events by a given $p$ and $\\gamma$ in Manna model"
   ]
  },
  {
   "cell_type": "code",
   "execution_count": 29,
   "id": "realistic-atlantic",
   "metadata": {},
   "outputs": [],
   "source": [
    "t_scaling = 2.25\n",
    "best_t = 300\n",
    "\n",
    "LS = [64, 128, 256, 512]\n",
    "TS = [best_t, int(best_t * t_scaling), int(best_t * t_scaling**2), int(best_t*t_scaling**3)]\n",
    "\n",
    "PERCENTS_ETA = [0.15 , 0.2, 0.25, 0.30]\n",
    "\n",
    "gamma = 2.67\n",
    "event_rates_rand = calculate_number_of_events(LS, TS, PERCENTS_ETA, gamma, \"rand\")"
   ]
  },
  {
   "cell_type": "code",
   "execution_count": 30,
   "id": "sound-symposium",
   "metadata": {},
   "outputs": [
    {
     "data": {
      "text/html": [
       "<div>\n",
       "<style scoped>\n",
       "    .dataframe tbody tr th:only-of-type {\n",
       "        vertical-align: middle;\n",
       "    }\n",
       "\n",
       "    .dataframe tbody tr th {\n",
       "        vertical-align: top;\n",
       "    }\n",
       "\n",
       "    .dataframe thead th {\n",
       "        text-align: right;\n",
       "    }\n",
       "</style>\n",
       "<table border=\"1\" class=\"dataframe\">\n",
       "  <thead>\n",
       "    <tr style=\"text-align: right;\">\n",
       "      <th></th>\n",
       "      <th>64</th>\n",
       "      <th>128</th>\n",
       "      <th>256</th>\n",
       "      <th>512</th>\n",
       "    </tr>\n",
       "    <tr>\n",
       "      <th>p</th>\n",
       "      <th></th>\n",
       "      <th></th>\n",
       "      <th></th>\n",
       "      <th></th>\n",
       "    </tr>\n",
       "  </thead>\n",
       "  <tbody>\n",
       "    <tr>\n",
       "      <th>0.15</th>\n",
       "      <td>108114</td>\n",
       "      <td>70910</td>\n",
       "      <td>47169</td>\n",
       "      <td>32008</td>\n",
       "    </tr>\n",
       "    <tr>\n",
       "      <th>0.20</th>\n",
       "      <td>43514</td>\n",
       "      <td>30106</td>\n",
       "      <td>21248</td>\n",
       "      <td>15164</td>\n",
       "    </tr>\n",
       "    <tr>\n",
       "      <th>0.25</th>\n",
       "      <td>16146</td>\n",
       "      <td>11885</td>\n",
       "      <td>9042</td>\n",
       "      <td>6802</td>\n",
       "    </tr>\n",
       "    <tr>\n",
       "      <th>0.30</th>\n",
       "      <td>5253</td>\n",
       "      <td>4116</td>\n",
       "      <td>3487</td>\n",
       "      <td>2879</td>\n",
       "    </tr>\n",
       "  </tbody>\n",
       "</table>\n",
       "</div>"
      ],
      "text/plain": [
       "         64     128    256    512\n",
       "p                                \n",
       "0.15  108114  70910  47169  32008\n",
       "0.20   43514  30106  21248  15164\n",
       "0.25   16146  11885   9042   6802\n",
       "0.30    5253   4116   3487   2879"
      ]
     },
     "execution_count": 30,
     "metadata": {},
     "output_type": "execute_result"
    }
   ],
   "source": [
    "event_rates_rand"
   ]
  },
  {
   "cell_type": "code",
   "execution_count": 31,
   "id": "local-dream",
   "metadata": {},
   "outputs": [
    {
     "name": "stdout",
     "output_type": "stream",
     "text": [
      "\\begin{tabular}{lrrrr}\n",
      "\\toprule\n",
      "{} &     64  &    128 &    256 &    512 \\\\\n",
      "p    &         &        &        &        \\\\\n",
      "\\midrule\n",
      "0.15 &  108114 &  70910 &  47169 &  32008 \\\\\n",
      "0.20 &   43514 &  30106 &  21248 &  15164 \\\\\n",
      "0.25 &   16146 &  11885 &   9042 &   6802 \\\\\n",
      "0.30 &    5253 &   4116 &   3487 &   2879 \\\\\n",
      "\\bottomrule\n",
      "\\end{tabular}\n",
      "\n"
     ]
    }
   ],
   "source": [
    "print(event_rates_rand.to_latex())"
   ]
  },
  {
   "cell_type": "code",
   "execution_count": 32,
   "id": "judicial-moderator",
   "metadata": {},
   "outputs": [],
   "source": [
    "gamma = 2.75\n",
    "event_rates_rand = calculate_number_of_events(LS, TS, PERCENTS_ETA, gamma, \"rand\")"
   ]
  },
  {
   "cell_type": "code",
   "execution_count": 33,
   "id": "sitting-teens",
   "metadata": {},
   "outputs": [
    {
     "data": {
      "text/html": [
       "<div>\n",
       "<style scoped>\n",
       "    .dataframe tbody tr th:only-of-type {\n",
       "        vertical-align: middle;\n",
       "    }\n",
       "\n",
       "    .dataframe tbody tr th {\n",
       "        vertical-align: top;\n",
       "    }\n",
       "\n",
       "    .dataframe thead th {\n",
       "        text-align: right;\n",
       "    }\n",
       "</style>\n",
       "<table border=\"1\" class=\"dataframe\">\n",
       "  <thead>\n",
       "    <tr style=\"text-align: right;\">\n",
       "      <th></th>\n",
       "      <th>64</th>\n",
       "      <th>128</th>\n",
       "      <th>256</th>\n",
       "      <th>512</th>\n",
       "    </tr>\n",
       "    <tr>\n",
       "      <th>p</th>\n",
       "      <th></th>\n",
       "      <th></th>\n",
       "      <th></th>\n",
       "      <th></th>\n",
       "    </tr>\n",
       "  </thead>\n",
       "  <tbody>\n",
       "    <tr>\n",
       "      <th>0.15</th>\n",
       "      <td>36614</td>\n",
       "      <td>20603</td>\n",
       "      <td>11990</td>\n",
       "      <td>7117</td>\n",
       "    </tr>\n",
       "    <tr>\n",
       "      <th>0.20</th>\n",
       "      <td>8569</td>\n",
       "      <td>4598</td>\n",
       "      <td>2787</td>\n",
       "      <td>1674</td>\n",
       "    </tr>\n",
       "    <tr>\n",
       "      <th>0.25</th>\n",
       "      <td>1554</td>\n",
       "      <td>839</td>\n",
       "      <td>507</td>\n",
       "      <td>299</td>\n",
       "    </tr>\n",
       "    <tr>\n",
       "      <th>0.30</th>\n",
       "      <td>225</td>\n",
       "      <td>106</td>\n",
       "      <td>62</td>\n",
       "      <td>40</td>\n",
       "    </tr>\n",
       "  </tbody>\n",
       "</table>\n",
       "</div>"
      ],
      "text/plain": [
       "        64     128    256   512\n",
       "p                              \n",
       "0.15  36614  20603  11990  7117\n",
       "0.20   8569   4598   2787  1674\n",
       "0.25   1554    839    507   299\n",
       "0.30    225    106     62    40"
      ]
     },
     "execution_count": 33,
     "metadata": {},
     "output_type": "execute_result"
    }
   ],
   "source": [
    "event_rates_rand"
   ]
  },
  {
   "cell_type": "code",
   "execution_count": 34,
   "id": "raising-samuel",
   "metadata": {},
   "outputs": [
    {
     "name": "stdout",
     "output_type": "stream",
     "text": [
      "\\begin{tabular}{lrrrr}\n",
      "\\toprule\n",
      "{} &    64  &    128 &    256 &   512 \\\\\n",
      "p    &        &        &        &       \\\\\n",
      "\\midrule\n",
      "0.15 &  36614 &  20603 &  11990 &  7117 \\\\\n",
      "0.20 &   8569 &   4598 &   2787 &  1674 \\\\\n",
      "0.25 &   1554 &    839 &    507 &   299 \\\\\n",
      "0.30 &    225 &    106 &     62 &    40 \\\\\n",
      "\\bottomrule\n",
      "\\end{tabular}\n",
      "\n"
     ]
    }
   ],
   "source": [
    "print(event_rates_rand.to_latex())"
   ]
  }
 ],
 "metadata": {
  "kernelspec": {
   "display_name": "Python 3 (ipykernel)",
   "language": "python",
   "name": "python3"
  },
  "language_info": {
   "codemirror_mode": {
    "name": "ipython",
    "version": 3
   },
   "file_extension": ".py",
   "mimetype": "text/x-python",
   "name": "python",
   "nbconvert_exporter": "python",
   "pygments_lexer": "ipython3",
   "version": "3.8.6"
  }
 },
 "nbformat": 4,
 "nbformat_minor": 5
}
